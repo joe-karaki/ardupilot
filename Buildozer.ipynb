{
  "nbformat": 4,
  "nbformat_minor": 0,
  "metadata": {
    "colab": {
      "provenance": [],
      "authorship_tag": "ABX9TyP7X1HnsSvYBSFmGi08AeqW",
      "include_colab_link": true
    },
    "kernelspec": {
      "name": "python3",
      "display_name": "Python 3"
    },
    "language_info": {
      "name": "python"
    }
  },
  "cells": [
    {
      "cell_type": "markdown",
      "metadata": {
        "id": "view-in-github",
        "colab_type": "text"
      },
      "source": [
        "<a href=\"https://colab.research.google.com/github/joe-karaki/ardupilot/blob/master/Buildozer.ipynb\" target=\"_parent\"><img src=\"https://colab.research.google.com/assets/colab-badge.svg\" alt=\"Open In Colab\"/></a>"
      ]
    },
    {
      "cell_type": "code",
      "execution_count": null,
      "metadata": {
        "id": "F6s2Hc6jZHLX"
      },
      "outputs": [],
      "source": [
        "!pip install buildozer"
      ]
    },
    {
      "cell_type": "code",
      "source": [
        "!pip install cython==0.29.33"
      ],
      "metadata": {
        "id": "IBiSn-rWZlcG"
      },
      "execution_count": null,
      "outputs": []
    },
    {
      "cell_type": "code",
      "source": [
        "!sudo dpkg --add-architecture i386\n",
        "!sudo apt-get update\n",
        "!sudo apt-get install -y build-essential ccache git zlib1g-dev python3 python3-dev libncurses5:i386 libstdc++6:i386 zlib1g:i386 openjdk-8-jdk unzip ant ccache autoconf libtool libssl-dev"
      ],
      "metadata": {
        "id": "HCc8DCa8saZo"
      },
      "execution_count": null,
      "outputs": []
    },
    {
      "cell_type": "code",
      "source": [
        "!lsb_release -a"
      ],
      "metadata": {
        "id": "fmfxPHxUZ4oa"
      },
      "execution_count": null,
      "outputs": []
    },
    {
      "cell_type": "code",
      "source": [
        "!sudo apt-get install -y \\\n",
        "python3-pip \\\n",
        "build-essential \\\n",
        "git \\\n",
        "python3 \\\n",
        "python3-dev \\\n",
        "ffmpeg \\\n",
        "libsdl2-dev \\\n",
        "libsdl2-image-dev \\\n",
        "libsdl2-mixer-dev \\\n",
        "libsdl2-ttf-dev \\\n",
        "libportmidi-dev \\\n",
        "libswscale-dev \\\n",
        "libavformat-dev \\\n",
        "libavcodec-dev \\\n",
        "zlib1g-dev\n"
      ],
      "metadata": {
        "id": "gknmA0s6aC7O"
      },
      "execution_count": null,
      "outputs": []
    },
    {
      "cell_type": "code",
      "source": [
        "!sudo apt-get install -y \\\n",
        "libgstreamer1.0 \\\n",
        "gstreamer1.0-plugins-base \\\n",
        "gstreamer1.0-plugins-good\n"
      ],
      "metadata": {
        "id": "FfYllXCbaOo4"
      },
      "execution_count": null,
      "outputs": []
    },
    {
      "cell_type": "code",
      "source": [
        "!sudo apt-get update"
      ],
      "metadata": {
        "id": "Uu_ISxWkabr_"
      },
      "execution_count": null,
      "outputs": []
    },
    {
      "cell_type": "code",
      "source": [
        "!sudo apt-get install libtool"
      ],
      "metadata": {
        "id": "C7H0nJNAahuD"
      },
      "execution_count": null,
      "outputs": []
    },
    {
      "cell_type": "code",
      "source": [
        "!sudo apt-get install libssl-dev"
      ],
      "metadata": {
        "id": "-JqxX1uLjkcM"
      },
      "execution_count": null,
      "outputs": []
    },
    {
      "cell_type": "code",
      "source": [
        "!sudo apt-get install build-essential libsqlite3-dev sqlite3 bzip2 libbz2-dev zlib1g-dev libssl-dev openssl libgdbm-dev libgdbm-compat-dev liblzma-dev libreadline-dev libncursesw5-dev libffi-dev uuid-dev libffi6"
      ],
      "metadata": {
        "id": "NMYPnUTXapiI"
      },
      "execution_count": null,
      "outputs": []
    },
    {
      "cell_type": "code",
      "source": [
        "!sudo apt-get install libffi-dev"
      ],
      "metadata": {
        "id": "2WONcNVAazZd"
      },
      "execution_count": null,
      "outputs": []
    },
    {
      "cell_type": "code",
      "source": [
        "!sudo apt install build-essential autoconf libtool"
      ],
      "metadata": {
        "id": "jc7_WV8Ga6kn"
      },
      "execution_count": null,
      "outputs": []
    },
    {
      "cell_type": "code",
      "source": [
        "!buildozer init"
      ],
      "metadata": {
        "id": "B7knW7LfbGBm"
      },
      "execution_count": null,
      "outputs": []
    },
    {
      "cell_type": "code",
      "source": [
        "!buildozer -v android debug"
      ],
      "metadata": {
        "id": "x_GgYAZBbd-U"
      },
      "execution_count": null,
      "outputs": []
    },
    {
      "cell_type": "code",
      "source": [
        "!buildozer android clean"
      ],
      "metadata": {
        "id": "Cnwt3hmFgxWx"
      },
      "execution_count": null,
      "outputs": []
    }
  ]
}